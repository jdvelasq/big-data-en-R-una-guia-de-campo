{
 "cells": [
  {
   "cell_type": "markdown",
   "metadata": {
    "slideshow": {
     "slide_type": "slide"
    }
   },
   "source": [
    "Big Data en R: una guía de campo para el profesional y el investigador\n",
    "===\n",
    "\n",
    "Juan David Velásquez Henao, MSc, PhD\n",
    "\n",
    "Facultad de Minas\n",
    "\n",
    "Universidad Nacional de Colombia, Sede Medellín"
   ]
  },
  {
   "cell_type": "markdown",
   "metadata": {
    "slideshow": {
     "slide_type": "slide"
    }
   },
   "source": [
    "## El paradigma MapReduce"
   ]
  },
  {
   "cell_type": "markdown",
   "metadata": {
    "slideshow": {
     "slide_type": "slide"
    }
   },
   "source": [
    "![hadoop-mapreduce](assets/hadoop-mapreduce.jpg)"
   ]
  },
  {
   "cell_type": "markdown",
   "metadata": {
    "slideshow": {
     "slide_type": "slide"
    }
   },
   "source": [
    "## Conteo de palabras usando MapReduce"
   ]
  },
  {
   "cell_type": "markdown",
   "metadata": {},
   "source": [
    "### Datos"
   ]
  },
  {
   "cell_type": "code",
   "execution_count": 1,
   "metadata": {},
   "outputs": [],
   "source": [
    "!rm -rf input\n",
    "!mkdir input"
   ]
  },
  {
   "cell_type": "code",
   "execution_count": 2,
   "metadata": {
    "slideshow": {
     "slide_type": "subslide"
    }
   },
   "outputs": [
    {
     "name": "stdout",
     "output_type": "stream",
     "text": [
      "Writing input/text0.txt\n"
     ]
    }
   ],
   "source": [
    "%%writefile input/text0.txt\n",
    "A B C A\n",
    "A D D A\n",
    "A K M C"
   ]
  },
  {
   "cell_type": "code",
   "execution_count": 3,
   "metadata": {
    "slideshow": {
     "slide_type": "subslide"
    }
   },
   "outputs": [
    {
     "name": "stdout",
     "output_type": "stream",
     "text": [
      "Writing input/text1.txt\n"
     ]
    }
   ],
   "source": [
    "%%writefile input/text1.txt\n",
    "B A C Y B\n",
    "U O Y Y A\n",
    "A B I T"
   ]
  },
  {
   "cell_type": "code",
   "execution_count": 4,
   "metadata": {
    "slideshow": {
     "slide_type": "subslide"
    }
   },
   "outputs": [
    {
     "name": "stdout",
     "output_type": "stream",
     "text": [
      "Writing input/text2.txt\n"
     ]
    }
   ],
   "source": [
    "%%writefile input/text2.txt\n",
    "A C D A\n",
    "A K B\n",
    "A N H I D A"
   ]
  },
  {
   "cell_type": "markdown",
   "metadata": {
    "slideshow": {
     "slide_type": "slide"
    }
   },
   "source": [
    "### Algoritmo"
   ]
  },
  {
   "cell_type": "markdown",
   "metadata": {},
   "source": [
    "![map-reduce](assets/map-reduce.jpg)"
   ]
  },
  {
   "cell_type": "markdown",
   "metadata": {
    "slideshow": {
     "slide_type": "slide"
    }
   },
   "source": [
    "### Implementación"
   ]
  },
  {
   "cell_type": "markdown",
   "metadata": {
    "slideshow": {
     "slide_type": "-"
    }
   },
   "source": [
    "#### mapper.R"
   ]
  },
  {
   "cell_type": "code",
   "execution_count": 5,
   "metadata": {
    "slideshow": {
     "slide_type": "-"
    }
   },
   "outputs": [
    {
     "name": "stdout",
     "output_type": "stream",
     "text": [
      "Overwriting mapper.R\n"
     ]
    }
   ],
   "source": [
    "%%writefile mapper.R\n",
    "#! /usr/bin/env Rscript\n",
    "\n",
    "input <- file('stdin', 'r')\n",
    "while(TRUE) {\n",
    "    row <- readLines(input, n=1)\n",
    "    if( length(row) == 0 ){\n",
    "        break\n",
    "    }\n",
    "    words <- strsplit(row, \" \")[[1]]\n",
    "    for(word in words){\n",
    "        if(word != '')\n",
    "            write(cat(word,'\\t1',sep=''), \"\")\n",
    "    }\n",
    "}"
   ]
  },
  {
   "cell_type": "code",
   "execution_count": 6,
   "metadata": {
    "slideshow": {
     "slide_type": "slide"
    }
   },
   "outputs": [
    {
     "name": "stdout",
     "output_type": "stream",
     "text": [
      "A\t1\n",
      "B\t1\n",
      "C\t1\n",
      "A\t1\n",
      "A\t1\n",
      "D\t1\n",
      "D\t1\n",
      "A\t1\n",
      "A\t1\n",
      "K\t1\n",
      "Error in cat(word, \"\\t1\", sep = \"\") : ignoring SIGPIPE signal\n",
      "Calls: write -> cat -> cat\n",
      "Execution halted\n"
     ]
    }
   ],
   "source": [
    "## El programa anterior se hace ejecutable\n",
    "!chmod +x mapper.R\n",
    "\n",
    "## Verificación\n",
    "!cat ./input/text*.txt | ./mapper.R | head"
   ]
  },
  {
   "cell_type": "markdown",
   "metadata": {
    "slideshow": {
     "slide_type": "slide"
    }
   },
   "source": [
    "#### reducer.R"
   ]
  },
  {
   "cell_type": "code",
   "execution_count": 7,
   "metadata": {},
   "outputs": [
    {
     "name": "stdout",
     "output_type": "stream",
     "text": [
      "Overwriting reducer.R\n"
     ]
    }
   ],
   "source": [
    "%%writefile reducer.R\n",
    "#!/usr/bin/env Rscript\n",
    "\n",
    "curkey <- NULL\n",
    "total <- 0\n",
    "input <- file('stdin', 'r')\n",
    "while(TRUE) {\n",
    "    row <- readLines(input, n=1)\n",
    "    if( length(row) == 0 ){\n",
    "        break\n",
    "    }\n",
    "    x <- strsplit(row, \"\\t\")[[1]]\n",
    "    key <- x[1]\n",
    "    value <- strtoi(x[2])\n",
    "    if(!is.null(curkey) && key == curkey){\n",
    "        total <- total + value\n",
    "    }\n",
    "    else{\n",
    "        if( !is.null(curkey) ) {\n",
    "            write(cat(curkey,'\\t', total), \"\")\n",
    "        }\n",
    "        curkey <- key\n",
    "        total <- value\n",
    "    }\n",
    "}\n",
    "write(cat(curkey,'\\t', total), \"\")"
   ]
  },
  {
   "cell_type": "code",
   "execution_count": 8,
   "metadata": {
    "slideshow": {
     "slide_type": "slide"
    }
   },
   "outputs": [
    {
     "name": "stdout",
     "output_type": "stream",
     "text": [
      "A \t 13\n",
      "B \t 5\n",
      "C \t 4\n",
      "D \t 4\n",
      "H \t 1\n",
      "I \t 2\n",
      "K \t 2\n",
      "M \t 1\n",
      "N \t 1\n",
      "O \t 1\n",
      "T \t 1\n",
      "U \t 1\n",
      "Y \t 3\n"
     ]
    }
   ],
   "source": [
    "!chmod +x reducer.R\n",
    "!cat ./input/text*.txt | ./mapper.R | sort | ./reducer.R "
   ]
  },
  {
   "cell_type": "markdown",
   "metadata": {
    "slideshow": {
     "slide_type": "slide"
    }
   },
   "source": [
    "#### Ejecución en Hadoop"
   ]
  },
  {
   "cell_type": "code",
   "execution_count": 9,
   "metadata": {
    "slideshow": {
     "slide_type": "subslide"
    }
   },
   "outputs": [
    {
     "name": "stdout",
     "output_type": "stream",
     "text": [
      "Deleted /tmp/wordcount/input\n",
      "-rw-r--r--   1 vagrant supergroup         24 2019-06-20 18:45 /tmp/wordcount/input/text0.txt\n",
      "-rw-r--r--   1 vagrant supergroup         28 2019-06-20 18:45 /tmp/wordcount/input/text1.txt\n",
      "-rw-r--r--   1 vagrant supergroup         26 2019-06-20 18:45 /tmp/wordcount/input/text2.txt\n"
     ]
    }
   ],
   "source": [
    "!hdfs dfs -rm -r -f /tmp/wordcount/input\n",
    "!hdfs dfs -mkdir /tmp/wordcount/input\n",
    "!hdfs dfs -copyFromLocal  input/* /tmp/wordcount/input\n",
    "!hdfs dfs -ls /tmp/wordcount/input/*"
   ]
  },
  {
   "cell_type": "code",
   "execution_count": 10,
   "metadata": {
    "slideshow": {
     "slide_type": "subslide"
    }
   },
   "outputs": [
    {
     "name": "stdout",
     "output_type": "stream",
     "text": [
      "Deleted /tmp/wordcount/output\n",
      "packageJobJar: [mapper.R, reducer.R, /tmp/hadoop-unjar6469148254629004813/] [] /tmp/streamjob1946450967712389098.jar tmpDir=null\n"
     ]
    }
   ],
   "source": [
    "##\n",
    "## Se borra la carpeta de salida si existe\n",
    "##\n",
    "!hdfs dfs -rm -r -f /tmp/wordcount/output\n",
    "\n",
    "##\n",
    "## Se lanza el proceso en el cluster\n",
    "##\n",
    "!hadoop jar $HADOOP_HOME/share/hadoop/tools/lib/hadoop-streaming-*.jar \\\n",
    "    -input   /tmp/wordcount/input   \\\n",
    "    -output  /tmp/wordcount/output  \\\n",
    "    -file    mapper.R reducer.R     \\\n",
    "    -mapper  mapper.R               \\\n",
    "    -reducer reducer.R"
   ]
  },
  {
   "cell_type": "markdown",
   "metadata": {
    "slideshow": {
     "slide_type": "slide"
    }
   },
   "source": [
    "#### Resultados"
   ]
  },
  {
   "cell_type": "code",
   "execution_count": 11,
   "metadata": {
    "slideshow": {
     "slide_type": "subslide"
    }
   },
   "outputs": [
    {
     "name": "stdout",
     "output_type": "stream",
     "text": [
      "Found 2 items\n",
      "-rw-r--r--   1 vagrant supergroup          0 2019-06-20 18:45 /tmp/wordcount/output/_SUCCESS\n",
      "-rw-r--r--   1 vagrant supergroup         79 2019-06-20 18:45 /tmp/wordcount/output/part-00000\n"
     ]
    }
   ],
   "source": [
    "##\n",
    "## Contenido del directorio de salida\n",
    "##\n",
    "!hadoop fs -ls /tmp/wordcount/output"
   ]
  },
  {
   "cell_type": "code",
   "execution_count": 12,
   "metadata": {
    "scrolled": true,
    "slideshow": {
     "slide_type": "subslide"
    }
   },
   "outputs": [
    {
     "name": "stdout",
     "output_type": "stream",
     "text": [
      "A \t 13\n",
      "B \t 5\n",
      "C \t 4\n",
      "D \t 4\n",
      "H \t 1\n",
      "I \t 2\n",
      "K \t 2\n",
      "M \t 1\n",
      "N \t 1\n",
      "O \t 1\n",
      "T \t 1\n",
      "U \t 1\n",
      "Y \t 3\n"
     ]
    }
   ],
   "source": [
    "!hadoop fs -cat /tmp/wordcount/output/part-00000"
   ]
  },
  {
   "cell_type": "markdown",
   "metadata": {
    "slideshow": {
     "slide_type": "slide"
    }
   },
   "source": [
    "## Evolución del Big Data"
   ]
  },
  {
   "cell_type": "markdown",
   "metadata": {},
   "source": [
    "![evolucion-bigadata](assets/evolucion-bigadata.jpg)"
   ]
  },
  {
   "cell_type": "markdown",
   "metadata": {
    "slideshow": {
     "slide_type": "slide"
    }
   },
   "source": [
    "## Posicionamiento del lenguaje R en el mundo"
   ]
  },
  {
   "cell_type": "markdown",
   "metadata": {},
   "source": [
    "![ieee.jpg](assets/ieee.jpg)"
   ]
  },
  {
   "cell_type": "markdown",
   "metadata": {
    "slideshow": {
     "slide_type": "slide"
    }
   },
   "source": [
    "## Ecosistema de aplicaciones"
   ]
  },
  {
   "cell_type": "markdown",
   "metadata": {},
   "source": [
    "![ecosistema](assets/ecosistema.jpg)"
   ]
  },
  {
   "cell_type": "markdown",
   "metadata": {
    "slideshow": {
     "slide_type": "slide"
    }
   },
   "source": [
    "## Aprendizaje estadístico y aprendizaje de máquinas en Big Data"
   ]
  },
  {
   "cell_type": "markdown",
   "metadata": {},
   "source": [
    "![hadoop-spark](assets/hadoop-spark.jpg)"
   ]
  },
  {
   "cell_type": "markdown",
   "metadata": {
    "slideshow": {
     "slide_type": "slide"
    }
   },
   "source": [
    "## SparkR (Spark on R from Apache)"
   ]
  },
  {
   "cell_type": "markdown",
   "metadata": {},
   "source": [
    "### Conteo de palabras en sparkR (the spark way)"
   ]
  },
  {
   "cell_type": "code",
   "execution_count": 13,
   "metadata": {},
   "outputs": [],
   "source": [
    "%load_ext rpy2.ipython"
   ]
  },
  {
   "cell_type": "code",
   "execution_count": 14,
   "metadata": {},
   "outputs": [
    {
     "name": "stderr",
     "output_type": "stream",
     "text": [
      "R[write to console]: \n",
      "Attaching package: ‘SparkR’\n",
      "\n",
      "\n",
      "R[write to console]: The following objects are masked from ‘package:stats’:\n",
      "\n",
      "    cov, filter, lag, na.omit, predict, sd, var, window\n",
      "\n",
      "\n",
      "R[write to console]: The following objects are masked from ‘package:base’:\n",
      "\n",
      "    as.data.frame, colnames, colnames<-, drop, endsWith, intersect,\n",
      "    rank, rbind, sample, startsWith, subset, summary, transform, union\n",
      "\n",
      "\n",
      "R[write to console]: Spark package found in SPARK_HOME: /usr/local/spark-2.4.0\n",
      "\n"
     ]
    },
    {
     "name": "stdout",
     "output_type": "stream",
     "text": [
      "Launching java with spark-submit command /usr/local/spark-2.4.0/bin/spark-submit   sparkr-shell /tmp/RtmpoIy76h/backend_port33fb7c89c102 \n",
      "Java ref type org.apache.spark.sql.SparkSession id 1 \n"
     ]
    }
   ],
   "source": [
    "%%R\n",
    "library(SparkR)\n",
    "sparkR.session(enableHiveSupport = TRUE)"
   ]
  },
  {
   "cell_type": "code",
   "execution_count": 15,
   "metadata": {
    "slideshow": {
     "slide_type": "subslide"
    }
   },
   "outputs": [
    {
     "name": "stdout",
     "output_type": "stream",
     "text": [
      "        value\n",
      "1   B A C Y B\n",
      "2   U O Y Y A\n",
      "3     A B I T\n",
      "4     A C D A\n",
      "5       A K B\n",
      "6 A N H I D A\n",
      "7     A B C A\n",
      "8     A D D A\n",
      "9     A K M C\n"
     ]
    }
   ],
   "source": [
    "%%R\n",
    "text <- read.df(\n",
    "    path = '/tmp/wordcount/input/',    # hdfs    \n",
    "    source = 'text',                   # tipo: csv, text, json\n",
    "    schema = NULL,                     # tipos de columnas \n",
    "    na.strings = \"NA\")                 # null\n",
    "\n",
    "collect(text)"
   ]
  },
  {
   "cell_type": "code",
   "execution_count": 16,
   "metadata": {
    "slideshow": {
     "slide_type": "slide"
    }
   },
   "outputs": [
    {
     "name": "stdout",
     "output_type": "stream",
     "text": [
      "  w\n",
      "1 B\n",
      "2 A\n",
      "3 C\n",
      "4 Y\n",
      "5 B\n",
      "6 U\n"
     ]
    }
   ],
   "source": [
    "%%R\n",
    "words <- select(text, alias(explode(split_string(text$value, ' ')), 'w'))\n",
    "head(words)"
   ]
  },
  {
   "cell_type": "code",
   "execution_count": 17,
   "metadata": {
    "slideshow": {
     "slide_type": "subslide"
    }
   },
   "outputs": [
    {
     "name": "stdout",
     "output_type": "stream",
     "text": [
      "   w count\n",
      "1  A    13\n",
      "2  B     5\n",
      "3  D     4\n",
      "4  C     4\n",
      "5  Y     3\n",
      "6  K     2\n",
      "7  I     2\n",
      "8  T     1\n",
      "9  M     1\n",
      "10 U     1\n",
      "11 O     1\n",
      "12 N     1\n",
      "13 H     1\n"
     ]
    }
   ],
   "source": [
    "%%R\n",
    "result <- count(groupBy(words, 'w'))\n",
    "x <- collect(arrange(result, desc(result$count)))\n",
    "x"
   ]
  },
  {
   "cell_type": "code",
   "execution_count": 18,
   "metadata": {
    "slideshow": {
     "slide_type": "subslide"
    }
   },
   "outputs": [
    {
     "data": {
      "image/png": "[encoded data removed]"
     },
     "metadata": {},
     "output_type": "display_data"
    }
   ],
   "source": [
    "%%R\n",
    "barplot(x$count, names.arg=x$w)"
   ]
  },
  {
   "cell_type": "markdown",
   "metadata": {
    "slideshow": {
     "slide_type": "slide"
    }
   },
   "source": [
    "## Sparklyr from RStudio"
   ]
  },
  {
   "cell_type": "code",
   "execution_count": 19,
   "metadata": {},
   "outputs": [
    {
     "name": "stderr",
     "output_type": "stream",
     "text": [
      "R[write to console]: \n",
      "Attaching package: ‘sparklyr’\n",
      "\n",
      "\n",
      "R[write to console]: The following object is masked from ‘package:SparkR’:\n",
      "\n",
      "    collect\n",
      "\n",
      "\n",
      "R[write to console]: \n",
      "Attaching package: ‘dplyr’\n",
      "\n",
      "\n",
      "R[write to console]: The following objects are masked from ‘package:SparkR’:\n",
      "\n",
      "    arrange, between, coalesce, collect, contains, count, cume_dist,\n",
      "    dense_rank, desc, distinct, explain, expr, filter, first, group_by,\n",
      "    intersect, lag, last, lead, mutate, n, n_distinct, ntile,\n",
      "    percent_rank, rename, row_number, sample_frac, select, slice, sql,\n",
      "    summarize, union\n",
      "\n",
      "\n",
      "R[write to console]: The following objects are masked from ‘package:stats’:\n",
      "\n",
      "    filter, lag\n",
      "\n",
      "\n",
      "R[write to console]: The following objects are masked from ‘package:base’:\n",
      "\n",
      "    intersect, setdiff, setequal, union\n",
      "\n",
      "\n"
     ]
    },
    {
     "name": "stdout",
     "output_type": "stream",
     "text": [
      "[1] ‘2.4.3’\n"
     ]
    }
   ],
   "source": [
    "%%R\n",
    "library(sparklyr)\n",
    "library(dplyr)\n",
    "sc <- spark_connect(master='local', spark_home='/home/vagrant/spark/spark-2.4.3-bin-hadoop2.7')\n",
    "spark_version(sc)"
   ]
  },
  {
   "cell_type": "code",
   "execution_count": 20,
   "metadata": {
    "slideshow": {
     "slide_type": "subslide"
    }
   },
   "outputs": [
    {
     "name": "stdout",
     "output_type": "stream",
     "text": [
      "\u001b[90m# Source: spark<letters> [?? x 1]\u001b[39m\n",
      "  line       \n",
      "  \u001b[3m\u001b[90m<chr>\u001b[39m\u001b[23m      \n",
      "\u001b[90m1\u001b[39m B A C Y B  \n",
      "\u001b[90m2\u001b[39m U O Y Y A  \n",
      "\u001b[90m3\u001b[39m A B I T    \n",
      "\u001b[90m4\u001b[39m A C D A    \n",
      "\u001b[90m5\u001b[39m A K B      \n",
      "\u001b[90m6\u001b[39m A N H I D A\n",
      "\u001b[90m7\u001b[39m A B C A    \n",
      "\u001b[90m8\u001b[39m A D D A    \n",
      "\u001b[90m9\u001b[39m A K M C    \n"
     ]
    }
   ],
   "source": [
    "%%R\n",
    "text <- spark_read_text(\n",
    "    sc,                        ## spark_connection\n",
    "    'letters',                 ## nombre de la tabla\n",
    "    '/tmp/wordcount/input/')   ## ubicación del archivo en el sistema hdfs\n",
    "\n",
    "text"
   ]
  },
  {
   "cell_type": "code",
   "execution_count": 21,
   "metadata": {
    "slideshow": {
     "slide_type": "subslide"
    }
   },
   "outputs": [
    {
     "name": "stdout",
     "output_type": "stream",
     "text": [
      "\u001b[90m# Source: spark<?> [?? x 1]\u001b[39m\n",
      "   w    \n",
      "   \u001b[3m\u001b[90m<chr>\u001b[39m\u001b[23m\n",
      "\u001b[90m 1\u001b[39m B    \n",
      "\u001b[90m 2\u001b[39m A    \n",
      "\u001b[90m 3\u001b[39m C    \n",
      "\u001b[90m 4\u001b[39m Y    \n",
      "\u001b[90m 5\u001b[39m B    \n",
      "\u001b[90m 6\u001b[39m U    \n",
      "\u001b[90m 7\u001b[39m O    \n",
      "\u001b[90m 8\u001b[39m Y    \n",
      "\u001b[90m 9\u001b[39m Y    \n",
      "\u001b[90m10\u001b[39m A    \n",
      "\u001b[90m# … with more rows\u001b[39m\n"
     ]
    }
   ],
   "source": [
    "%%R\n",
    "words <- (text %>%  mutate(line=split(line, ' ')) %>% mutate(w = explode(line))) %>% select(w)\n",
    "words"
   ]
  },
  {
   "cell_type": "code",
   "execution_count": 22,
   "metadata": {
    "slideshow": {
     "slide_type": "subslide"
    }
   },
   "outputs": [
    {
     "name": "stdout",
     "output_type": "stream",
     "text": [
      "\u001b[90m# Source: spark<?> [?? x 2]\u001b[39m\n",
      "   w     count\n",
      "   \u001b[3m\u001b[90m<chr>\u001b[39m\u001b[23m \u001b[3m\u001b[90m<dbl>\u001b[39m\u001b[23m\n",
      "\u001b[90m 1\u001b[39m T         1\n",
      "\u001b[90m 2\u001b[39m K         2\n",
      "\u001b[90m 3\u001b[39m N         1\n",
      "\u001b[90m 4\u001b[39m H         1\n",
      "\u001b[90m 5\u001b[39m M         1\n",
      "\u001b[90m 6\u001b[39m B         5\n",
      "\u001b[90m 7\u001b[39m C         4\n",
      "\u001b[90m 8\u001b[39m Y         3\n",
      "\u001b[90m 9\u001b[39m U         1\n",
      "\u001b[90m10\u001b[39m A        13\n",
      "\u001b[90m# … with more rows\u001b[39m\n"
     ]
    }
   ],
   "source": [
    "%%R\n",
    "words %>% group_by(w) %>% summarize(count = n())"
   ]
  },
  {
   "cell_type": "code",
   "execution_count": 23,
   "metadata": {
    "slideshow": {
     "slide_type": "subslide"
    }
   },
   "outputs": [
    {
     "name": "stdout",
     "output_type": "stream",
     "text": [
      "\u001b[90m# Source: spark<?> [?? x 2]\u001b[39m\n",
      "   w     count\n",
      "   \u001b[3m\u001b[90m<chr>\u001b[39m\u001b[23m \u001b[3m\u001b[90m<dbl>\u001b[39m\u001b[23m\n",
      "\u001b[90m 1\u001b[39m T         1\n",
      "\u001b[90m 2\u001b[39m K         2\n",
      "\u001b[90m 3\u001b[39m N         1\n",
      "\u001b[90m 4\u001b[39m H         1\n",
      "\u001b[90m 5\u001b[39m M         1\n",
      "\u001b[90m 6\u001b[39m B         5\n",
      "\u001b[90m 7\u001b[39m C         4\n",
      "\u001b[90m 8\u001b[39m Y         3\n",
      "\u001b[90m 9\u001b[39m U         1\n",
      "\u001b[90m10\u001b[39m A        13\n",
      "\u001b[90m# … with more rows\u001b[39m\n"
     ]
    }
   ],
   "source": [
    "%%R\n",
    "result <- (words %>% group_by(w) %>% summarize(count = n()))\n",
    "result"
   ]
  },
  {
   "cell_type": "code",
   "execution_count": 24,
   "metadata": {
    "slideshow": {
     "slide_type": "subslide"
    }
   },
   "outputs": [
    {
     "name": "stdout",
     "output_type": "stream",
     "text": [
      "\u001b[90m# A tibble: 13 x 2\u001b[39m\n",
      "   w     count\n",
      "   \u001b[3m\u001b[90m<chr>\u001b[39m\u001b[23m \u001b[3m\u001b[90m<dbl>\u001b[39m\u001b[23m\n",
      "\u001b[90m 1\u001b[39m A        13\n",
      "\u001b[90m 2\u001b[39m B         5\n",
      "\u001b[90m 3\u001b[39m C         4\n",
      "\u001b[90m 4\u001b[39m D         4\n",
      "\u001b[90m 5\u001b[39m Y         3\n",
      "\u001b[90m 6\u001b[39m K         2\n",
      "\u001b[90m 7\u001b[39m I         2\n",
      "\u001b[90m 8\u001b[39m T         1\n",
      "\u001b[90m 9\u001b[39m N         1\n",
      "\u001b[90m10\u001b[39m H         1\n",
      "\u001b[90m11\u001b[39m M         1\n",
      "\u001b[90m12\u001b[39m U         1\n",
      "\u001b[90m13\u001b[39m O         1\n"
     ]
    }
   ],
   "source": [
    "%%R\n",
    "x <- collect(result %>% arrange(desc(count)))\n",
    "x"
   ]
  },
  {
   "cell_type": "code",
   "execution_count": 25,
   "metadata": {
    "slideshow": {
     "slide_type": "subslide"
    }
   },
   "outputs": [
    {
     "data": {
      "image/png": "[encoded data removed]"
     },
     "metadata": {},
     "output_type": "display_data"
    }
   ],
   "source": [
    "%%R\n",
    "barplot(x$count, names.arg=x$w)"
   ]
  },
  {
   "cell_type": "markdown",
   "metadata": {
    "slideshow": {
     "slide_type": "slide"
    }
   },
   "source": [
    "## Machine Learning: Segmentación de mercados"
   ]
  },
  {
   "cell_type": "code",
   "execution_count": 26,
   "metadata": {
    "slideshow": {
     "slide_type": "subslide"
    }
   },
   "outputs": [
    {
     "name": "stdout",
     "output_type": "stream",
     "text": [
      "copyFromLocal: `/tmp/snsdata.csv': File exists\n"
     ]
    }
   ],
   "source": [
    "!hdfs dfs -copyFromLocal snsdata.csv /tmp/snsdata.csv"
   ]
  },
  {
   "cell_type": "code",
   "execution_count": 27,
   "metadata": {
    "slideshow": {
     "slide_type": "subslide"
    }
   },
   "outputs": [
    {
     "name": "stdout",
     "output_type": "stream",
     "text": [
      "gradyear,gender,age,friends,basketball,football,soccer,softball,volleyball,swimming,cheerleading,baseball,tennis,sports,cute,sex,sexy,hot,kissed,dance,band,marching,music,rock,god,church,jesus,bible,hair,dress,blonde,mall,shopping,clothes,hollister,abercrombie,die,death,drunk,drugs\n",
      "2006,M,18.982,7,0,0,0,0,0,0,0,0,0,0,0,0,0,0,0,1,0,0,0,0,0,0,0,0,0,0,0,0,0,0,0,0,0,0,0,0\n",
      "2006,F,18.801,0,0,1,0,0,0,0,0,0,0,0,1,0,0,0,0,0,0,0,2,2,1,0,0,0,6,4,0,1,0,0,0,0,0,0,0,0\n",
      "2006,M,18.335,69,0,1,0,0,0,0,0,0,0,0,0,0,0,0,0,0,2,0,1,0,0,0,0,0,0,0,0,0,0,0,0,0,0,1,0,0\n",
      "2006,F,18.875,0,0,0,0,0,0,0,0,0,0,0,1,0,0,0,0,0,0,0,0,1,0,0,0,0,0,0,0,0,0,0,0,0,0,0,0,0\n",
      "2006,NA,18.995,10,0,0,0,0,0,0,0,0,0,0,0,1,0,0,5,1,1,0,3,0,1,0,0,0,1,0,0,0,2,0,0,0,0,0,1,1\n",
      "2006,F,,142,0,0,0,0,0,0,0,0,0,0,0,1,0,0,0,0,0,1,2,0,0,0,0,0,0,1,0,0,1,0,0,0,0,0,1,0\n",
      "2006,F,18.93,72,0,0,0,0,0,0,0,0,0,0,0,0,0,0,0,0,1,1,0,0,0,0,0,0,0,0,0,2,0,0,2,0,0,0,0,0\n",
      "2006,M,18.322,17,0,0,0,1,0,0,0,0,0,0,0,2,1,0,0,0,0,0,1,1,0,0,0,0,0,0,0,0,0,0,0,0,0,0,0,0\n",
      "2006,F,19.055,52,0,0,0,0,0,0,0,0,0,0,0,0,0,0,0,0,0,0,0,0,0,0,0,0,0,0,0,0,0,0,0,0,0,0,0,0\n"
     ]
    }
   ],
   "source": [
    "!head snsdata.csv"
   ]
  },
  {
   "cell_type": "code",
   "execution_count": 28,
   "metadata": {
    "slideshow": {
     "slide_type": "subslide"
    }
   },
   "outputs": [
    {
     "name": "stdout",
     "output_type": "stream",
     "text": [
      "\u001b[90m# Source: spark<snsdata> [?? x 40]\u001b[39m\n",
      "   gradyear gender   age friends basketball football soccer softball volleyball\n",
      "      \u001b[3m\u001b[90m<int>\u001b[39m\u001b[23m \u001b[3m\u001b[90m<chr>\u001b[39m\u001b[23m  \u001b[3m\u001b[90m<dbl>\u001b[39m\u001b[23m   \u001b[3m\u001b[90m<int>\u001b[39m\u001b[23m      \u001b[3m\u001b[90m<int>\u001b[39m\u001b[23m    \u001b[3m\u001b[90m<int>\u001b[39m\u001b[23m  \u001b[3m\u001b[90m<int>\u001b[39m\u001b[23m    \u001b[3m\u001b[90m<int>\u001b[39m\u001b[23m      \u001b[3m\u001b[90m<int>\u001b[39m\u001b[23m\n",
      "\u001b[90m 1\u001b[39m     \u001b[4m2\u001b[24m006 M       19.0       7          0        0      0        0          0\n",
      "\u001b[90m 2\u001b[39m     \u001b[4m2\u001b[24m006 F       18.8       0          0        1      0        0          0\n",
      "\u001b[90m 3\u001b[39m     \u001b[4m2\u001b[24m006 M       18.3      69          0        1      0        0          0\n",
      "\u001b[90m 4\u001b[39m     \u001b[4m2\u001b[24m006 F       18.9       0          0        0      0        0          0\n",
      "\u001b[90m 5\u001b[39m     \u001b[4m2\u001b[24m006 NA      19.0      10          0        0      0        0          0\n",
      "\u001b[90m 6\u001b[39m     \u001b[4m2\u001b[24m006 F      \u001b[31mNaN\u001b[39m       142          0        0      0        0          0\n",
      "\u001b[90m 7\u001b[39m     \u001b[4m2\u001b[24m006 F       18.9      72          0        0      0        0          0\n",
      "\u001b[90m 8\u001b[39m     \u001b[4m2\u001b[24m006 M       18.3      17          0        0      0        1          0\n",
      "\u001b[90m 9\u001b[39m     \u001b[4m2\u001b[24m006 F       19.1      52          0        0      0        0          0\n",
      "\u001b[90m10\u001b[39m     \u001b[4m2\u001b[24m006 F       18.7      39          0        0      0        0          0\n",
      "\u001b[90m# … with more rows, and 31 more variables: swimming \u001b[3m\u001b[90m<int>\u001b[90m\u001b[23m, cheerleading \u001b[3m\u001b[90m<int>\u001b[90m\u001b[23m,\n",
      "#   baseball \u001b[3m\u001b[90m<int>\u001b[90m\u001b[23m, tennis \u001b[3m\u001b[90m<int>\u001b[90m\u001b[23m, sports \u001b[3m\u001b[90m<int>\u001b[90m\u001b[23m, cute \u001b[3m\u001b[90m<int>\u001b[90m\u001b[23m, sex \u001b[3m\u001b[90m<int>\u001b[90m\u001b[23m,\n",
      "#   sexy \u001b[3m\u001b[90m<int>\u001b[90m\u001b[23m, hot \u001b[3m\u001b[90m<int>\u001b[90m\u001b[23m, kissed \u001b[3m\u001b[90m<int>\u001b[90m\u001b[23m, dance \u001b[3m\u001b[90m<int>\u001b[90m\u001b[23m, band \u001b[3m\u001b[90m<int>\u001b[90m\u001b[23m,\n",
      "#   marching \u001b[3m\u001b[90m<int>\u001b[90m\u001b[23m, music \u001b[3m\u001b[90m<int>\u001b[90m\u001b[23m, rock \u001b[3m\u001b[90m<int>\u001b[90m\u001b[23m, god \u001b[3m\u001b[90m<int>\u001b[90m\u001b[23m, church \u001b[3m\u001b[90m<int>\u001b[90m\u001b[23m,\n",
      "#   jesus \u001b[3m\u001b[90m<int>\u001b[90m\u001b[23m, bible \u001b[3m\u001b[90m<int>\u001b[90m\u001b[23m, hair \u001b[3m\u001b[90m<int>\u001b[90m\u001b[23m, dress \u001b[3m\u001b[90m<int>\u001b[90m\u001b[23m, blonde \u001b[3m\u001b[90m<int>\u001b[90m\u001b[23m,\n",
      "#   mall \u001b[3m\u001b[90m<int>\u001b[90m\u001b[23m, shopping \u001b[3m\u001b[90m<int>\u001b[90m\u001b[23m, clothes \u001b[3m\u001b[90m<int>\u001b[90m\u001b[23m, hollister \u001b[3m\u001b[90m<int>\u001b[90m\u001b[23m,\n",
      "#   abercrombie \u001b[3m\u001b[90m<int>\u001b[90m\u001b[23m, die \u001b[3m\u001b[90m<int>\u001b[90m\u001b[23m, death \u001b[3m\u001b[90m<int>\u001b[90m\u001b[23m, drunk \u001b[3m\u001b[90m<int>\u001b[90m\u001b[23m, drugs \u001b[3m\u001b[90m<int>\u001b[90m\u001b[23m\u001b[39m\n"
     ]
    }
   ],
   "source": [
    "%%R\n",
    "df <- \n",
    "spark_read_csv(\n",
    "    sc,                  ## spark_connection\n",
    "    'snsdata',           ## nombre de la tabla\n",
    "    '/tmp/snsdata.csv')  ## ubicación del archivo\n",
    "                         ## en el sistema hdfs\n",
    "df"
   ]
  },
  {
   "cell_type": "code",
   "execution_count": 29,
   "metadata": {
    "slideshow": {
     "slide_type": "subslide"
    }
   },
   "outputs": [
    {
     "name": "stdout",
     "output_type": "stream",
     "text": [
      "\u001b[90m# Source: spark<?> [?? x 1]\u001b[39m\n",
      "      n\n",
      "  \u001b[3m\u001b[90m<dbl>\u001b[39m\u001b[23m\n",
      "\u001b[90m1\u001b[39m \u001b[4m3\u001b[24m\u001b[4m0\u001b[24m000\n"
     ]
    }
   ],
   "source": [
    "%%R\n",
    "##\n",
    "## Cantidad de registros leidos\n",
    "##\n",
    "count(df)"
   ]
  },
  {
   "cell_type": "code",
   "execution_count": 30,
   "metadata": {
    "slideshow": {
     "slide_type": "subslide"
    }
   },
   "outputs": [
    {
     "name": "stdout",
     "output_type": "stream",
     "text": [
      "\u001b[90m# Source: spark<?> [?? x 2]\u001b[39m\n",
      "  gender count\n",
      "  \u001b[3m\u001b[90m<chr>\u001b[39m\u001b[23m  \u001b[3m\u001b[90m<dbl>\u001b[39m\u001b[23m\n",
      "\u001b[90m1\u001b[39m M       \u001b[4m5\u001b[24m222\n",
      "\u001b[90m2\u001b[39m F      \u001b[4m2\u001b[24m\u001b[4m2\u001b[24m054\n",
      "\u001b[90m3\u001b[39m NA      \u001b[4m2\u001b[24m724\n"
     ]
    }
   ],
   "source": [
    "%%R\n",
    "##\n",
    "## Conteo por género\n",
    "##\n",
    "df %>%  group_by(gender) %>% summarize(count = n())"
   ]
  },
  {
   "cell_type": "code",
   "execution_count": 31,
   "metadata": {
    "slideshow": {
     "slide_type": "subslide"
    }
   },
   "outputs": [
    {
     "name": "stdout",
     "output_type": "stream",
     "text": [
      "\n",
      "    F     M    NA \n",
      "22054  5222  2724 \n"
     ]
    }
   ],
   "source": [
    "%%R\n",
    "##\n",
    "## Conteo por género\n",
    "##\n",
    "table(df %>% select(gender) %>% collect)"
   ]
  },
  {
   "cell_type": "code",
   "execution_count": 32,
   "metadata": {
    "slideshow": {
     "slide_type": "subslide"
    }
   },
   "outputs": [
    {
     "name": "stdout",
     "output_type": "stream",
     "text": [
      "      age         \n",
      " Min.   :  3.086  \n",
      " 1st Qu.: 16.312  \n",
      " Median : 17.287  \n",
      " Mean   : 17.994  \n",
      " 3rd Qu.: 18.259  \n",
      " Max.   :106.927  \n",
      " NA's   :5086     \n"
     ]
    }
   ],
   "source": [
    "%%R\n",
    "##\n",
    "## Estadísticos por rango de edades\n",
    "##\n",
    "summary(df %>% select(age) %>% collect())"
   ]
  },
  {
   "cell_type": "code",
   "execution_count": 33,
   "metadata": {
    "slideshow": {
     "slide_type": "subslide"
    }
   },
   "outputs": [],
   "source": [
    "%%R\n",
    "##\n",
    "## Agrupamiento usando k-means\n",
    "##\n",
    "model <- \n",
    "ml_kmeans(\n",
    "    df,\n",
    "    ~ friends + basketball + football + soccer + softball + \n",
    "      volleyball + swimming + cheerleading + baseball + tennis + \n",
    "      sports + cute + sex + sexy + hot + kissed + dance + band + \n",
    "      marching + music + rock + god + church + jesus + bible + \n",
    "      hair + dress + blonde + mall + shopping + clothes + hollister + \n",
    "      abercrombie + die + death + drunk + drugs,\n",
    "    k = 5,\n",
    "    max_iter = 100,\n",
    "    seed = 12345,\n",
    "    prediction_col = 'cluster'\n",
    ")"
   ]
  },
  {
   "cell_type": "code",
   "execution_count": 34,
   "metadata": {
    "slideshow": {
     "slide_type": "subslide"
    }
   },
   "outputs": [],
   "source": [
    "%%R\n",
    "##\n",
    "## Pronóstico del cluster de cada grupo\n",
    "##\n",
    "fitted <- ml_predict(model, df) %>% collect"
   ]
  },
  {
   "cell_type": "code",
   "execution_count": 35,
   "metadata": {
    "slideshow": {
     "slide_type": "subslide"
    }
   },
   "outputs": [
    {
     "name": "stdout",
     "output_type": "stream",
     "text": [
      "\u001b[90m# A tibble: 5 x 2\u001b[39m\n",
      "  cluster count\n",
      "    \u001b[3m\u001b[90m<int>\u001b[39m\u001b[23m \u001b[3m\u001b[90m<int>\u001b[39m\u001b[23m\n",
      "\u001b[90m1\u001b[39m       0  \u001b[4m3\u001b[24m502\n",
      "\u001b[90m2\u001b[39m       1 \u001b[4m1\u001b[24m\u001b[4m6\u001b[24m886\n",
      "\u001b[90m3\u001b[39m       2     7\n",
      "\u001b[90m4\u001b[39m       3  \u001b[4m8\u001b[24m994\n",
      "\u001b[90m5\u001b[39m       4   611\n"
     ]
    }
   ],
   "source": [
    "%%R\n",
    "##\n",
    "## Cantidad de patrones por cluster\n",
    "##\n",
    "fitted %>%  group_by(cluster) %>% summarize(count = n())"
   ]
  },
  {
   "cell_type": "markdown",
   "metadata": {},
   "source": [
    "---"
   ]
  },
  {
   "cell_type": "markdown",
   "metadata": {
    "slideshow": {
     "slide_type": "slide"
    }
   },
   "source": [
    "# Gracias por su atención\n",
    "\n",
    "---"
   ]
  },
  {
   "cell_type": "markdown",
   "metadata": {},
   "source": [
    "Big Data en R: una guía de campo para el profesional y el investigador\n",
    "===\n",
    "\n",
    "Juan David Velásquez Henao, MSc, PhD\n",
    "\n",
    "Facultad de Minas\n",
    "\n",
    "Universidad Nacional de Colombia, Sede Medellín"
   ]
  }
 ],
 "metadata": {
  "celltoolbar": "Slideshow",
  "kernelspec": {
   "display_name": "Python 3",
   "language": "python",
   "name": "python3"
  },
  "language_info": {
   "codemirror_mode": {
    "name": "ipython",
    "version": 3
   },
   "file_extension": ".py",
   "mimetype": "text/x-python",
   "name": "python",
   "nbconvert_exporter": "python",
   "pygments_lexer": "ipython3",
   "version": "3.6.8"
  }
 },
 "nbformat": 4,
 "nbformat_minor": 2
}
